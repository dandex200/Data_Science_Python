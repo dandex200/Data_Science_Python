{
 "cells": [
  {
   "cell_type": "markdown",
   "metadata": {},
   "source": [
    "# Lab 9 Tasks\n",
    "\n",
    "In this notebook we will use regression techniques to analyse a subset of the 2019 World Happiness Index data. In this dataset each row represents a country, with the following features:\n",
    "\n",
    "- *country*: name of the country for each row\n",
    "- *gdp*: real GDP per capita\n",
    "- *social_support*: amount of social support that is present in a country\n",
    "- *health*: healthy life expectancy,\n",
    "- *freedom*: freedom to make life choices \n",
    "- *generosity*: leve of generosity of citizens\n",
    "- *corruption*: perceptions of corruption in a country"
   ]
  },
  {
   "cell_type": "markdown",
   "metadata": {},
   "source": [
    "### Task 1\n",
    "\n",
    "Download the World Happiness Index data from the link below, and load the data into a Pandas DataFrame.\n",
    "\n",
    "http://mlg.ucd.ie/modules/COMP30760/happiness2019.csv"
   ]
  },
  {
   "cell_type": "code",
   "execution_count": 5,
   "metadata": {},
   "outputs": [
    {
     "data": {
      "text/html": [
       "<div>\n",
       "<style scoped>\n",
       "    .dataframe tbody tr th:only-of-type {\n",
       "        vertical-align: middle;\n",
       "    }\n",
       "\n",
       "    .dataframe tbody tr th {\n",
       "        vertical-align: top;\n",
       "    }\n",
       "\n",
       "    .dataframe thead th {\n",
       "        text-align: right;\n",
       "    }\n",
       "</style>\n",
       "<table border=\"1\" class=\"dataframe\">\n",
       "  <thead>\n",
       "    <tr style=\"text-align: right;\">\n",
       "      <th></th>\n",
       "      <th>gdp</th>\n",
       "      <th>social_support</th>\n",
       "      <th>health</th>\n",
       "      <th>freedom</th>\n",
       "      <th>generosity</th>\n",
       "      <th>corruption</th>\n",
       "    </tr>\n",
       "    <tr>\n",
       "      <th>country</th>\n",
       "      <th></th>\n",
       "      <th></th>\n",
       "      <th></th>\n",
       "      <th></th>\n",
       "      <th></th>\n",
       "      <th></th>\n",
       "    </tr>\n",
       "  </thead>\n",
       "  <tbody>\n",
       "    <tr>\n",
       "      <th>Afghanistan</th>\n",
       "      <td>0.350</td>\n",
       "      <td>0.517</td>\n",
       "      <td>0.361</td>\n",
       "      <td>0.000</td>\n",
       "      <td>0.158</td>\n",
       "      <td>0.025</td>\n",
       "    </tr>\n",
       "    <tr>\n",
       "      <th>Albania</th>\n",
       "      <td>0.947</td>\n",
       "      <td>0.848</td>\n",
       "      <td>0.874</td>\n",
       "      <td>0.383</td>\n",
       "      <td>0.178</td>\n",
       "      <td>0.027</td>\n",
       "    </tr>\n",
       "    <tr>\n",
       "      <th>Algeria</th>\n",
       "      <td>1.002</td>\n",
       "      <td>1.160</td>\n",
       "      <td>0.785</td>\n",
       "      <td>0.086</td>\n",
       "      <td>0.073</td>\n",
       "      <td>0.114</td>\n",
       "    </tr>\n",
       "    <tr>\n",
       "      <th>Argentina</th>\n",
       "      <td>1.092</td>\n",
       "      <td>1.432</td>\n",
       "      <td>0.881</td>\n",
       "      <td>0.471</td>\n",
       "      <td>0.066</td>\n",
       "      <td>0.050</td>\n",
       "    </tr>\n",
       "    <tr>\n",
       "      <th>Armenia</th>\n",
       "      <td>0.850</td>\n",
       "      <td>1.055</td>\n",
       "      <td>0.815</td>\n",
       "      <td>0.283</td>\n",
       "      <td>0.095</td>\n",
       "      <td>0.064</td>\n",
       "    </tr>\n",
       "    <tr>\n",
       "      <th>Australia</th>\n",
       "      <td>1.372</td>\n",
       "      <td>1.548</td>\n",
       "      <td>1.036</td>\n",
       "      <td>0.557</td>\n",
       "      <td>0.332</td>\n",
       "      <td>0.290</td>\n",
       "    </tr>\n",
       "    <tr>\n",
       "      <th>Austria</th>\n",
       "      <td>1.376</td>\n",
       "      <td>1.475</td>\n",
       "      <td>1.016</td>\n",
       "      <td>0.532</td>\n",
       "      <td>0.244</td>\n",
       "      <td>0.226</td>\n",
       "    </tr>\n",
       "    <tr>\n",
       "      <th>Azerbaijan</th>\n",
       "      <td>1.043</td>\n",
       "      <td>1.147</td>\n",
       "      <td>0.769</td>\n",
       "      <td>0.351</td>\n",
       "      <td>0.035</td>\n",
       "      <td>0.182</td>\n",
       "    </tr>\n",
       "    <tr>\n",
       "      <th>Bahrain</th>\n",
       "      <td>1.362</td>\n",
       "      <td>1.368</td>\n",
       "      <td>0.871</td>\n",
       "      <td>0.536</td>\n",
       "      <td>0.255</td>\n",
       "      <td>0.110</td>\n",
       "    </tr>\n",
       "    <tr>\n",
       "      <th>Bangladesh</th>\n",
       "      <td>0.562</td>\n",
       "      <td>0.928</td>\n",
       "      <td>0.723</td>\n",
       "      <td>0.527</td>\n",
       "      <td>0.166</td>\n",
       "      <td>0.143</td>\n",
       "    </tr>\n",
       "  </tbody>\n",
       "</table>\n",
       "</div>"
      ],
      "text/plain": [
       "               gdp  social_support  health  freedom  generosity  corruption\n",
       "country                                                                    \n",
       "Afghanistan  0.350           0.517   0.361    0.000       0.158       0.025\n",
       "Albania      0.947           0.848   0.874    0.383       0.178       0.027\n",
       "Algeria      1.002           1.160   0.785    0.086       0.073       0.114\n",
       "Argentina    1.092           1.432   0.881    0.471       0.066       0.050\n",
       "Armenia      0.850           1.055   0.815    0.283       0.095       0.064\n",
       "Australia    1.372           1.548   1.036    0.557       0.332       0.290\n",
       "Austria      1.376           1.475   1.016    0.532       0.244       0.226\n",
       "Azerbaijan   1.043           1.147   0.769    0.351       0.035       0.182\n",
       "Bahrain      1.362           1.368   0.871    0.536       0.255       0.110\n",
       "Bangladesh   0.562           0.928   0.723    0.527       0.166       0.143"
      ]
     },
     "execution_count": 5,
     "metadata": {},
     "output_type": "execute_result"
    }
   ],
   "source": [
    "import pandas as pd\n",
    "\n",
    "df = pd.read_csv(\"http://mlg.ucd.ie/modules/COMP30760/happiness2019.csv\", index_col=\"country\")\n",
    "\n",
    "df.head(10)"
   ]
  },
  {
   "cell_type": "markdown",
   "metadata": {},
   "source": [
    "### Task 2\n",
    "\n",
    "Calculate basic summary statistics for the data. List the top 5 ranked countries for each measure."
   ]
  },
  {
   "cell_type": "code",
   "execution_count": 6,
   "metadata": {},
   "outputs": [
    {
     "data": {
      "text/html": [
       "<div>\n",
       "<style scoped>\n",
       "    .dataframe tbody tr th:only-of-type {\n",
       "        vertical-align: middle;\n",
       "    }\n",
       "\n",
       "    .dataframe tbody tr th {\n",
       "        vertical-align: top;\n",
       "    }\n",
       "\n",
       "    .dataframe thead th {\n",
       "        text-align: right;\n",
       "    }\n",
       "</style>\n",
       "<table border=\"1\" class=\"dataframe\">\n",
       "  <thead>\n",
       "    <tr style=\"text-align: right;\">\n",
       "      <th></th>\n",
       "      <th>gdp</th>\n",
       "      <th>social_support</th>\n",
       "      <th>health</th>\n",
       "      <th>freedom</th>\n",
       "      <th>generosity</th>\n",
       "      <th>corruption</th>\n",
       "    </tr>\n",
       "  </thead>\n",
       "  <tbody>\n",
       "    <tr>\n",
       "      <th>count</th>\n",
       "      <td>156.000000</td>\n",
       "      <td>156.000000</td>\n",
       "      <td>156.000000</td>\n",
       "      <td>156.000000</td>\n",
       "      <td>156.000000</td>\n",
       "      <td>156.000000</td>\n",
       "    </tr>\n",
       "    <tr>\n",
       "      <th>mean</th>\n",
       "      <td>0.905147</td>\n",
       "      <td>1.208814</td>\n",
       "      <td>0.725244</td>\n",
       "      <td>0.392571</td>\n",
       "      <td>0.184846</td>\n",
       "      <td>0.110603</td>\n",
       "    </tr>\n",
       "    <tr>\n",
       "      <th>std</th>\n",
       "      <td>0.398389</td>\n",
       "      <td>0.299191</td>\n",
       "      <td>0.242124</td>\n",
       "      <td>0.143289</td>\n",
       "      <td>0.095254</td>\n",
       "      <td>0.094538</td>\n",
       "    </tr>\n",
       "    <tr>\n",
       "      <th>min</th>\n",
       "      <td>0.000000</td>\n",
       "      <td>0.000000</td>\n",
       "      <td>0.000000</td>\n",
       "      <td>0.000000</td>\n",
       "      <td>0.000000</td>\n",
       "      <td>0.000000</td>\n",
       "    </tr>\n",
       "    <tr>\n",
       "      <th>25%</th>\n",
       "      <td>0.602750</td>\n",
       "      <td>1.055750</td>\n",
       "      <td>0.547750</td>\n",
       "      <td>0.308000</td>\n",
       "      <td>0.108750</td>\n",
       "      <td>0.047000</td>\n",
       "    </tr>\n",
       "    <tr>\n",
       "      <th>50%</th>\n",
       "      <td>0.960000</td>\n",
       "      <td>1.271500</td>\n",
       "      <td>0.789000</td>\n",
       "      <td>0.417000</td>\n",
       "      <td>0.177500</td>\n",
       "      <td>0.085500</td>\n",
       "    </tr>\n",
       "    <tr>\n",
       "      <th>75%</th>\n",
       "      <td>1.232500</td>\n",
       "      <td>1.452500</td>\n",
       "      <td>0.881750</td>\n",
       "      <td>0.507250</td>\n",
       "      <td>0.248250</td>\n",
       "      <td>0.141250</td>\n",
       "    </tr>\n",
       "    <tr>\n",
       "      <th>max</th>\n",
       "      <td>1.684000</td>\n",
       "      <td>1.624000</td>\n",
       "      <td>1.141000</td>\n",
       "      <td>0.631000</td>\n",
       "      <td>0.566000</td>\n",
       "      <td>0.453000</td>\n",
       "    </tr>\n",
       "  </tbody>\n",
       "</table>\n",
       "</div>"
      ],
      "text/plain": [
       "              gdp  social_support      health     freedom  generosity  \\\n",
       "count  156.000000      156.000000  156.000000  156.000000  156.000000   \n",
       "mean     0.905147        1.208814    0.725244    0.392571    0.184846   \n",
       "std      0.398389        0.299191    0.242124    0.143289    0.095254   \n",
       "min      0.000000        0.000000    0.000000    0.000000    0.000000   \n",
       "25%      0.602750        1.055750    0.547750    0.308000    0.108750   \n",
       "50%      0.960000        1.271500    0.789000    0.417000    0.177500   \n",
       "75%      1.232500        1.452500    0.881750    0.507250    0.248250   \n",
       "max      1.684000        1.624000    1.141000    0.631000    0.566000   \n",
       "\n",
       "       corruption  \n",
       "count  156.000000  \n",
       "mean     0.110603  \n",
       "std      0.094538  \n",
       "min      0.000000  \n",
       "25%      0.047000  \n",
       "50%      0.085500  \n",
       "75%      0.141250  \n",
       "max      0.453000  "
      ]
     },
     "execution_count": 6,
     "metadata": {},
     "output_type": "execute_result"
    }
   ],
   "source": [
    "df.describe()"
   ]
  },
  {
   "cell_type": "code",
   "execution_count": 9,
   "metadata": {},
   "outputs": [
    {
     "name": "stdout",
     "output_type": "stream",
     "text": [
      "Top Countries by gdp\n",
      "                        gdp\n",
      "country                    \n",
      "Qatar                 1.684\n",
      "Luxembourg            1.609\n",
      "Singapore             1.572\n",
      "United Arab Emirates  1.503\n",
      "Kuwait                1.500\n",
      "Top Countries by social_support\n",
      "             social_support\n",
      "country                    \n",
      "Iceland               1.624\n",
      "Finland               1.587\n",
      "Norway                1.582\n",
      "Denmark               1.573\n",
      "New Zealand           1.557\n",
      "Top Countries by health\n",
      "             health\n",
      "country            \n",
      "Singapore     1.141\n",
      "Hong Kong     1.122\n",
      "Japan         1.088\n",
      "Spain         1.062\n",
      "Switzerland   1.052\n",
      "Top Countries by freedom\n",
      "                      freedom\n",
      "country                      \n",
      "Uzbekistan              0.631\n",
      "Cambodia                0.609\n",
      "Norway                  0.603\n",
      "United Arab Emirates    0.598\n",
      "Finland                 0.596\n",
      "Top Countries by generosity\n",
      "           generosity\n",
      "country              \n",
      "Myanmar         0.566\n",
      "Indonesia       0.498\n",
      "Haiti           0.419\n",
      "Malta           0.375\n",
      "Kenya           0.372\n",
      "Top Countries by corruption\n",
      "             corruption\n",
      "country                \n",
      "Singapore         0.453\n",
      "Rwanda            0.411\n",
      "Denmark           0.410\n",
      "Finland           0.393\n",
      "New Zealand       0.380\n"
     ]
    }
   ],
   "source": [
    "from IPython.display import display\n",
    "\n",
    "for column in df.columns:\n",
    "    print(\"Top Countries by %s\" % column)\n",
    "    print( df.nlargest(5, column)[[column]])"
   ]
  },
  {
   "cell_type": "markdown",
   "metadata": {},
   "source": [
    "Generate a boxplot for the different variables in the dataset."
   ]
  },
  {
   "cell_type": "code",
   "execution_count": 10,
   "metadata": {},
   "outputs": [
    {
     "data": {
      "text/plain": [
       "Text(0, 0.5, 'Measure Score')"
      ]
     },
     "execution_count": 10,
     "metadata": {},
     "output_type": "execute_result"
    },
    {
     "data": {
      "image/png": "[encoded data removed]",
      "text/plain": [
       "<Figure size 1200x700 with 1 Axes>"
      ]
     },
     "metadata": {},
     "output_type": "display_data"
    }
   ],
   "source": [
    "import matplotlib.pyplot as plt\n",
    "%matplotlib inline\n",
    "\n",
    "df.boxplot(figsize=(12,7), fontsize=14)\n",
    "plt.xlabel( \"Measure\", fontsize=14 )\n",
    "plt.ylabel( \"Measure Score\", fontsize=14 )"
   ]
  },
  {
   "cell_type": "markdown",
   "metadata": {},
   "source": [
    "### Task 3\n",
    "\n",
    "Calculate the correlations between the different variables in the data. Which pair of variables are: (i) the most highly correlated; (ii) the least correlated?"
   ]
  },
  {
   "cell_type": "code",
   "execution_count": 11,
   "metadata": {},
   "outputs": [
    {
     "data": {
      "text/html": [
       "<div>\n",
       "<style scoped>\n",
       "    .dataframe tbody tr th:only-of-type {\n",
       "        vertical-align: middle;\n",
       "    }\n",
       "\n",
       "    .dataframe tbody tr th {\n",
       "        vertical-align: top;\n",
       "    }\n",
       "\n",
       "    .dataframe thead th {\n",
       "        text-align: right;\n",
       "    }\n",
       "</style>\n",
       "<table border=\"1\" class=\"dataframe\">\n",
       "  <thead>\n",
       "    <tr style=\"text-align: right;\">\n",
       "      <th></th>\n",
       "      <th>gdp</th>\n",
       "      <th>social_support</th>\n",
       "      <th>health</th>\n",
       "      <th>freedom</th>\n",
       "      <th>generosity</th>\n",
       "      <th>corruption</th>\n",
       "    </tr>\n",
       "  </thead>\n",
       "  <tbody>\n",
       "    <tr>\n",
       "      <th>gdp</th>\n",
       "      <td>1.000000</td>\n",
       "      <td>0.754906</td>\n",
       "      <td>0.835462</td>\n",
       "      <td>0.379079</td>\n",
       "      <td>-0.079662</td>\n",
       "      <td>0.298920</td>\n",
       "    </tr>\n",
       "    <tr>\n",
       "      <th>social_support</th>\n",
       "      <td>0.754906</td>\n",
       "      <td>1.000000</td>\n",
       "      <td>0.719009</td>\n",
       "      <td>0.447333</td>\n",
       "      <td>-0.048126</td>\n",
       "      <td>0.181899</td>\n",
       "    </tr>\n",
       "    <tr>\n",
       "      <th>health</th>\n",
       "      <td>0.835462</td>\n",
       "      <td>0.719009</td>\n",
       "      <td>1.000000</td>\n",
       "      <td>0.390395</td>\n",
       "      <td>-0.029511</td>\n",
       "      <td>0.295283</td>\n",
       "    </tr>\n",
       "    <tr>\n",
       "      <th>freedom</th>\n",
       "      <td>0.379079</td>\n",
       "      <td>0.447333</td>\n",
       "      <td>0.390395</td>\n",
       "      <td>1.000000</td>\n",
       "      <td>0.269742</td>\n",
       "      <td>0.438843</td>\n",
       "    </tr>\n",
       "    <tr>\n",
       "      <th>generosity</th>\n",
       "      <td>-0.079662</td>\n",
       "      <td>-0.048126</td>\n",
       "      <td>-0.029511</td>\n",
       "      <td>0.269742</td>\n",
       "      <td>1.000000</td>\n",
       "      <td>0.326538</td>\n",
       "    </tr>\n",
       "    <tr>\n",
       "      <th>corruption</th>\n",
       "      <td>0.298920</td>\n",
       "      <td>0.181899</td>\n",
       "      <td>0.295283</td>\n",
       "      <td>0.438843</td>\n",
       "      <td>0.326538</td>\n",
       "      <td>1.000000</td>\n",
       "    </tr>\n",
       "  </tbody>\n",
       "</table>\n",
       "</div>"
      ],
      "text/plain": [
       "                     gdp  social_support    health   freedom  generosity  \\\n",
       "gdp             1.000000        0.754906  0.835462  0.379079   -0.079662   \n",
       "social_support  0.754906        1.000000  0.719009  0.447333   -0.048126   \n",
       "health          0.835462        0.719009  1.000000  0.390395   -0.029511   \n",
       "freedom         0.379079        0.447333  0.390395  1.000000    0.269742   \n",
       "generosity     -0.079662       -0.048126 -0.029511  0.269742    1.000000   \n",
       "corruption      0.298920        0.181899  0.295283  0.438843    0.326538   \n",
       "\n",
       "                corruption  \n",
       "gdp               0.298920  \n",
       "social_support    0.181899  \n",
       "health            0.295283  \n",
       "freedom           0.438843  \n",
       "generosity        0.326538  \n",
       "corruption        1.000000  "
      ]
     },
     "execution_count": 11,
     "metadata": {},
     "output_type": "execute_result"
    }
   ],
   "source": [
    "df_c = df.corr()\n",
    "\n",
    "df_c\n",
    "\n"
   ]
  },
  {
   "cell_type": "markdown",
   "metadata": {},
   "source": [
    "### Task 4\n",
    "\n",
    "Apply a **simple linear regression** to learn (fit) the model, where *gdp* is the independent variable and *health* is the target variable that we would like to predict. Produce a plot of the regression line."
   ]
  },
  {
   "cell_type": "code",
   "execution_count": 12,
   "metadata": {},
   "outputs": [
    {
     "name": "stdout",
     "output_type": "stream",
     "text": [
      "Model Intercept is:  [0.26564776]\n",
      "Model slope is [0.50775798]\n"
     ]
    },
    {
     "data": {
      "text/plain": [
       "Text(0, 0.5, 'Health')"
      ]
     },
     "execution_count": 12,
     "metadata": {},
     "output_type": "execute_result"
    },
    {
     "data": {
      "image/png": "[encoded data removed]",
      "text/plain": [
       "<Figure size 900x600 with 1 Axes>"
      ]
     },
     "metadata": {},
     "output_type": "display_data"
    }
   ],
   "source": [
    "x = df[[\"gdp\"]].values\n",
    "y = df[[\"health\"]].values\n",
    "\n",
    "from sklearn.linear_model import LinearRegression\n",
    "\n",
    "model = LinearRegression()\n",
    "model.fit(x,y)\n",
    "print(\"Model Intercept is: \", model.intercept_)\n",
    "print(\"Model slope is\", model.coef_[0])\n",
    "\n",
    "plt.figure(figsize=(9,6))\n",
    "plt.scatter(x, y)\n",
    "\n",
    "m = model.coef_[0]\n",
    "b = model.intercept_\n",
    "\n",
    "plt.plot([min(x), max(x)], [b, m*max(x) + b], 'r')\n",
    "plt.xlabel('GDP', fontsize=14)\n",
    "plt.ylabel('Health', fontsize=14)"
   ]
  },
  {
   "cell_type": "markdown",
   "metadata": {},
   "source": [
    "### Task 5\n",
    "Repeat the process from Step 4, but this time use *generosity* as the target variable. What does a comparison of the two regression lines indicate?"
   ]
  },
  {
   "cell_type": "code",
   "execution_count": 13,
   "metadata": {},
   "outputs": [
    {
     "name": "stdout",
     "output_type": "stream",
     "text": [
      "Model intercept is [0.20208664]\n",
      "Model slope is [-0.01904716]\n"
     ]
    },
    {
     "data": {
      "text/plain": [
       "Text(0, 0.5, 'Generosity')"
      ]
     },
     "execution_count": 13,
     "metadata": {},
     "output_type": "execute_result"
    },
    {
     "data": {
      "image/png": "[encoded data removed]",
      "text/plain": [
       "<Figure size 900x600 with 1 Axes>"
      ]
     },
     "metadata": {},
     "output_type": "display_data"
    }
   ],
   "source": [
    "# Get the columns\n",
    "x = df[[\"gdp\"]].values\n",
    "y = df[[\"generosity\"]].values\n",
    "# Now build the regression model\n",
    "from sklearn.linear_model import LinearRegression\n",
    "model = LinearRegression()\n",
    "model.fit(x, y)\n",
    "print(\"Model intercept is\", model.intercept_)\n",
    "print(\"Model slope is\", model.coef_[0])\n",
    "# plot the data\n",
    "plt.figure(figsize=(9,6))\n",
    "plt.scatter(x, y)\n",
    "# plot the regression line\n",
    "m = model.coef_[0]\n",
    "b = model.intercept_\n",
    "plt.plot([min(x), max(x)], [b, m*max(x) + b], 'r')\n",
    "plt.xlabel('GDP', fontsize=14)\n",
    "plt.ylabel('Generosity', fontsize=14)"
   ]
  }
 ],
 "metadata": {
  "kernelspec": {
   "display_name": "Python 3.10.8 64-bit",
   "language": "python",
   "name": "python3"
  },
  "language_info": {
   "codemirror_mode": {
    "name": "ipython",
    "version": 3
   },
   "file_extension": ".py",
   "mimetype": "text/x-python",
   "name": "python",
   "nbconvert_exporter": "python",
   "pygments_lexer": "ipython3",
   "version": "3.10.8"
  },
  "vscode": {
   "interpreter": {
    "hash": "e7370f93d1d0cde622a1f8e1c04877d8463912d04d973331ad4851f04de6915a"
   }
  }
 },
 "nbformat": 4,
 "nbformat_minor": 1
}

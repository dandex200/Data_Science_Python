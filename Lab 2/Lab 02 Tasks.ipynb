{
 "cells": [
  {
   "cell_type": "markdown",
   "metadata": {},
   "source": [
    "# Lab 2 Tasks"
   ]
  },
  {
   "cell_type": "markdown",
   "metadata": {},
   "source": [
    "### Task 1\n",
    "\n",
    "Create a function *sorted_random()* which generates a list of *n* random numbers, sorted in descending order (i.e. largest first). The number *n* should be an input argument for the function. If no value is specified for *n*, by default a list of 10 numbers should be generated."
   ]
  },
  {
   "cell_type": "code",
   "execution_count": 15,
   "metadata": {},
   "outputs": [
    {
     "data": {
      "text/plain": [
       "[18, 21, 22, 24, 24]"
      ]
     },
     "execution_count": 15,
     "metadata": {},
     "output_type": "execute_result"
    }
   ],
   "source": [
    "import random\n",
    "\n",
    "def sorted_random(n):\n",
    "    randomList = []\n",
    "    for i in range(0,n):\n",
    "        n = random.randint(1,30)\n",
    "        randomList.append(n)\n",
    "    randomList.sort()\n",
    "    return randomList\n",
    "\n",
    "sorted_random(5)\n",
    "    "
   ]
  },
  {
   "cell_type": "markdown",
   "metadata": {},
   "source": [
    "### Task 2\n",
    "\n",
    "Download the comma-separated file *scores.csv* from the module Brightspace page and save it to the same directory as your notebook. \n",
    "\n",
    "Write a function *display_numbers()* which takes one argument - an input file path. The function should read floating point numbers from each line in the specified file, and compute the total for the values on each line. Print each total to 2 decimal places. \n",
    "\n",
    "Apply the function *display_numbers()* to *scores.csv*."
   ]
  },
  {
   "cell_type": "code",
   "execution_count": 1,
   "metadata": {},
   "outputs": [
    {
     "name": "stdout",
     "output_type": "stream",
     "text": [
      "Sum of Line: 2.84\n",
      "Sum of Line: 3.57\n",
      "Sum of Line: 1.57\n",
      "Sum of Line: 2.41\n",
      "Sum of Line: 2.47\n",
      "Sum of Line: 3.02\n"
     ]
    }
   ],
   "source": [
    "def display_numbers(filepath):\n",
    "    a_file = open(filepath)\n",
    "    lines = a_file.readlines()\n",
    "    for l in lines:\n",
    "        l = l.strip().split(',')\n",
    "        total = 0\n",
    "        for num in l:\n",
    "            total+=float(num)\n",
    "        print(\"Sum of Line: {:.2f}\".format(total))\n",
    "    a_file.close()\n",
    "\n",
    "display_numbers(\"scores.csv\")"
   ]
  },
  {
   "cell_type": "markdown",
   "metadata": {},
   "source": [
    "### Task 3\n",
    "\n",
    "Write a function *reverse_numbers()* which takes two arguments - an input file path and an output file path. The function should read floating point numbers from each line in the specified input file. The order of the values from in line should then be reversed, and these lines should be written to the specifed output file.\n",
    "\n",
    "Apply the function *reverse_numbers()* to the file *scores.csv* from Task 1 to create a new output file *reversed.csv*."
   ]
  },
  {
   "cell_type": "code",
   "execution_count": 42,
   "metadata": {},
   "outputs": [],
   "source": [
    "def reverse_numbers(input_file, output_file):\n",
    "    a_in = open(input_file, 'r')\n",
    "    a_out = open(output_file, 'w+')\n",
    "    lines = a_in.readlines()\n",
    "    for l in lines:\n",
    "        l = l.strip().split(',')\n",
    "        l.reverse()\n",
    "        a_out.write(\",\".join(l))\n",
    "        a_out.write('\\n')\n",
    "    a_in.close()\n",
    "    a_out.close()\n",
    "    \n",
    "reverse_numbers(\"scores.csv\", \"reversed_scores\")\n",
    "        "
   ]
  },
  {
   "cell_type": "markdown",
   "metadata": {},
   "source": [
    "### Task 4\n",
    "\n",
    "Download the comma-separated file *worldcup.csv* from the module Brightspace page and save it to the same directory as your notebook. This data file contains a list of the winners and runners-up for all FIFA World Cup finals, one final per line.\n",
    "\n",
    "Write a function *count_finalists()* which takes a single argument (an input file path), reads the data, and displays the number of times each country has appeared in a World Cup final. Countries should be displayed in alphabetical order.\n",
    "\n",
    "Apply the function *count_finalists()* to the file *worldcup.csv*."
   ]
  },
  {
   "cell_type": "code",
   "execution_count": 31,
   "metadata": {},
   "outputs": [
    {
     "name": "stdout",
     "output_type": "stream",
     "text": [
      "7\tBrazil\n",
      "6\tItaly\n",
      "6\tWest Germany\n",
      "5\tArgentina\n",
      "3\tNetherlands\n",
      "3\tFrance\n",
      "2\tUruguay\n",
      "2\tCzechoslovakia\n",
      "2\tHungary\n",
      "2\tGermany\n",
      "1\tSweden\n",
      "1\tEngland\n",
      "1\tSpain\n",
      "1\tCroatia\n"
     ]
    }
   ],
   "source": [
    "def count_finalists(input_file):\n",
    "    a_in = open(input_file, 'r')\n",
    "    lines = a_in.readlines()\n",
    "    total = {}\n",
    "    for line in lines[1:]:\n",
    "        parts = line.strip().split(\",\")\n",
    "        winner = parts[1]\n",
    "        runners_up = parts[2]\n",
    "        if not winner in total:\n",
    "            total[winner] = 0\n",
    "        total[winner] += 1\n",
    "        if not runners_up in total:\n",
    "            total[runners_up] = 0\n",
    "        total[runners_up] += 1\n",
    "    for country in sorted(total, key=total.get, reverse=True):\n",
    "        print(\"%d\\t%s\" % (total[country], country))\n",
    "count_finalists(\"worldcup.csv\")"
   ]
  }
 ],
 "metadata": {
  "kernelspec": {
   "display_name": "Python 3 (ipykernel)",
   "language": "python",
   "name": "python3"
  },
  "language_info": {
   "codemirror_mode": {
    "name": "ipython",
    "version": 3
   },
   "file_extension": ".py",
   "mimetype": "text/x-python",
   "name": "python",
   "nbconvert_exporter": "python",
   "pygments_lexer": "ipython3",
   "version": "3.10.7"
  }
 },
 "nbformat": 4,
 "nbformat_minor": 4
}

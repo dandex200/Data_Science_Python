{
 "cells": [
  {
   "cell_type": "markdown",
   "metadata": {},
   "source": [
    "# Lab 5 Tasks\n",
    "\n",
    "In this notebook we will analyse a dataset related to the London 2012 Olympics by using the Pandas library. In the dataset, each row represents a different country described by a number of features:\n",
    "\n",
    "- *ISO:* Unique short ISO country code\n",
    "- *Country*: Full country name\n",
    "- *Gold*: Number of gold medals won by the country in 2012\n",
    "- *Silver*: Number of silver medals won by the country in 2012\n",
    "- *Bronze*: Number of bronze medals won by the country in 2012\n",
    "- *Population*: 2011 population for the country, from the World Bank"
   ]
  },
  {
   "cell_type": "markdown",
   "metadata": {},
   "source": [
    "## Task 1"
   ]
  },
  {
   "cell_type": "markdown",
   "metadata": {},
   "source": [
    "Load the CSV file \"olympics2012.csv\" into a Pandas Data Frame, where each row is indexed by its ISO country code. Check the number of rows and the column names in the Data Frame."
   ]
  },
  {
   "cell_type": "code",
   "execution_count": 30,
   "metadata": {},
   "outputs": [
    {
     "name": "stdout",
     "output_type": "stream",
     "text": [
      "    ISO        Country  Gold  Silver  Bronze  Population\n",
      "0   AFG    Afghanistan     0       0       1    35320445\n",
      "1   ARG      Argentina     1       1       2    40764561\n",
      "2   ARM        Armenia     0       1       2     3100236\n",
      "3   AUS      Australia     7      16      12    22620600\n",
      "4   AZE     Azerbaijan     2       2       6     9168000\n",
      "..  ...            ...   ...     ...     ...         ...\n",
      "80  UKR        Ukraine     6       5       9    45706100\n",
      "81  USA  United States    46      29      29   311591917\n",
      "82  UZB     Uzbekistan     1       0       3    29341200\n",
      "83  VEN      Venezuela     1       0       0    29278000\n",
      "84  ZAF   South Africa     3       2       1    50586757\n",
      "\n",
      "[85 rows x 6 columns]\n"
     ]
    }
   ],
   "source": [
    "import pandas as pd\n",
    "\n",
    "df = pd.read_csv('lab05-data/olympics2012.csv')\n",
    "print(df)"
   ]
  },
  {
   "cell_type": "markdown",
   "metadata": {},
   "source": [
    "Display the first 15 rows of the data."
   ]
  },
  {
   "cell_type": "code",
   "execution_count": 31,
   "metadata": {},
   "outputs": [
    {
     "name": "stdout",
     "output_type": "stream",
     "text": [
      "    ISO      Country  Gold  Silver  Bronze  Population\n",
      "0   AFG  Afghanistan     0       0       1    35320445\n",
      "1   ARG    Argentina     1       1       2    40764561\n",
      "2   ARM      Armenia     0       1       2     3100236\n",
      "3   AUS    Australia     7      16      12    22620600\n",
      "4   AZE   Azerbaijan     2       2       6     9168000\n",
      "5   BEL      Belgium     0       1       2    11008000\n",
      "6   BGR     Bulgaria     0       1       1     7476000\n",
      "7   BHR      Bahrain     0       0       1     1323535\n",
      "8   BHS      Bahamas     1       0       0      347176\n",
      "9   BLR      Belarus     3       5       5     9473000\n",
      "10  BRA       Brazil     3       5       9   196655014\n",
      "11  BWA     Botswana     0       1       0     2030738\n",
      "12  CAN       Canada     1       5      12    34482779\n",
      "13  CHE  Switzerland     2       2       0     7907000\n",
      "14  CHN        China    38      27      22  1344130000\n"
     ]
    }
   ],
   "source": [
    "df_first15 = pd.read_csv('lab05-data/olympics2012.csv', nrows=15)\n",
    "\n",
    "print(df_first15)"
   ]
  },
  {
   "cell_type": "markdown",
   "metadata": {},
   "source": [
    "Show the top 10 countries with the highest number of gold medals at the 2012 Olympics."
   ]
  },
  {
   "cell_type": "code",
   "execution_count": 32,
   "metadata": {},
   "outputs": [
    {
     "name": "stdout",
     "output_type": "stream",
     "text": [
      "    ISO             Country  Gold  Silver  Bronze  Population\n",
      "81  USA       United States    46      29      29   311591917\n",
      "14  CHN               China    38      27      22  1344130000\n",
      "30  GBR       Great Britain    29      17      19    60924000\n",
      "66  RUS  Russian Federation    24      25      33   141930000\n",
      "47  KOR         Korea, Rep.    13       8       7    49779000\n",
      "28  FRA              France    11      11      12    65436552\n",
      "19  DEU             Germany    11      19      14    81726000\n",
      "42  ITA               Italy     8       9      11    60770000\n",
      "37  HUN             Hungary     8       4       5     9971000\n",
      "45  KAZ          Kazakhstan     7       1       5    16558459\n"
     ]
    }
   ],
   "source": [
    "df.sort_values(by=['Gold'], inplace=True, ascending=False)\n",
    "\n",
    "print(df.head(10))"
   ]
  },
  {
   "cell_type": "markdown",
   "metadata": {},
   "source": [
    "## Task 2"
   ]
  },
  {
   "cell_type": "markdown",
   "metadata": {},
   "source": [
    "Create a new column in the Data Frame called \"Total\" which indicates the total number of medals won by each country. Show the top 10 countries with the highest number of total medals."
   ]
  },
  {
   "cell_type": "code",
   "execution_count": 39,
   "metadata": {},
   "outputs": [
    {
     "name": "stdout",
     "output_type": "stream",
     "text": [
      "    ISO             Country  Gold  Silver  Bronze  Population  Total\n",
      "81  USA       United States    46      29      29   311591917    104\n",
      "14  CHN               China    38      27      22  1344130000     87\n",
      "66  RUS  Russian Federation    24      25      33   141930000     82\n",
      "30  GBR       Great Britain    29      17      19    60924000     65\n",
      "19  DEU             Germany    11      19      14    81726000     44\n",
      "44  JPN               Japan     7      14      17   127817277     38\n",
      "3   AUS           Australia     7      16      12    22620600     35\n",
      "28  FRA              France    11      11      12    65436552     34\n",
      "47  KOR         Korea, Rep.    13       8       7    49779000     28\n",
      "42  ITA               Italy     8       9      11    60770000     28\n"
     ]
    }
   ],
   "source": [
    "from matplotlib.pyplot import axis\n",
    "\n",
    "\n",
    "df['Total'] = df.iloc[:,[2,3,4]].sum(axis = 1)\n",
    "df.sort_values(by=['Total'], inplace=True, ascending=False)\n",
    "print(df.head(10))"
   ]
  },
  {
   "cell_type": "markdown",
   "metadata": {},
   "source": [
    "Display the subset of countries which:\n",
    "1. Won 20 or more gold medals\n",
    "2. Won 25 or more total medals\n",
    "3. Won only bronze medals"
   ]
  },
  {
   "cell_type": "code",
   "execution_count": 45,
   "metadata": {},
   "outputs": [
    {
     "name": "stdout",
     "output_type": "stream",
     "text": [
      "    ISO             Country  Gold  Silver  Bronze  Population  Total\n",
      "81  USA       United States    46      29      29   311591917    104\n",
      "14  CHN               China    38      27      22  1344130000     87\n",
      "66  RUS  Russian Federation    24      25      33   141930000     82\n",
      "30  GBR       Great Britain    29      17      19    60924000     65\n",
      "\n",
      "\n",
      "    ISO             Country  Gold  Silver  Bronze  Population  Total\n",
      "81  USA       United States    46      29      29   311591917    104\n",
      "14  CHN               China    38      27      22  1344130000     87\n",
      "66  RUS  Russian Federation    24      25      33   141930000     82\n",
      "30  GBR       Great Britain    29      17      19    60924000     65\n",
      "19  DEU             Germany    11      19      14    81726000     44\n",
      "44  JPN               Japan     7      14      17   127817277     38\n",
      "3   AUS           Australia     7      16      12    22620600     35\n",
      "28  FRA              France    11      11      12    65436552     34\n",
      "47  KOR         Korea, Rep.    13       8       7    49779000     28\n",
      "42  ITA               Italy     8       9      11    60770000     28\n",
      "\n",
      "\n",
      "    ISO       Country  Gold  Silver  Bronze  Population  Total\n",
      "32  GRC        Greece     0       0       2    11304000      2\n",
      "64  QAT         Qatar     0       0       2     1870041      2\n",
      "52  MDA       Moldova     0       0       2     3559000      2\n",
      "68  SGP     Singapore     0       0       2     5183700      2\n",
      "51  MAR       Morocco     0       0       1    32272974      1\n",
      "48  KWT        Kuwait     0       0       1     2818042      1\n",
      "7   BHR       Bahrain     0       0       1     1323535      1\n",
      "67  SAU  Saudi Arabia     0       0       1    28082541      1\n",
      "35  HKG     Hong Kong     0       0       1     7071600      1\n",
      "74  TJK    Tajikistan     0       0       1     6976958      1\n",
      "0   AFG   Afghanistan     0       0       1    35320445      1\n"
     ]
    }
   ],
   "source": [
    "print(df[df[\"Gold\"] >= 20])\n",
    "\n",
    "print(\"\\n\")\n",
    "\n",
    "print(df[df[\"Total\"] >= 25])\n",
    "\n",
    "print(\"\\n\")\n",
    "\n",
    "print( df[(df[\"Gold\"] == 0) & (df[\"Silver\"]==0) & (df[\"Bronze\"]>0)  ])"
   ]
  },
  {
   "cell_type": "markdown",
   "metadata": {},
   "source": [
    "## Task 3\n",
    "\n",
    "Create a new column called \"WeightedTotal\", which computes a weighted total for the number of medals won by each country, with weights: Gold=3, Silver=2, Bronze=1. \n",
    "\n",
    "Display the top 10 countries according to this score."
   ]
  },
  {
   "cell_type": "code",
   "execution_count": 47,
   "metadata": {},
   "outputs": [
    {
     "name": "stdout",
     "output_type": "stream",
     "text": [
      "    ISO             Country  Gold  Silver  Bronze  Population  Total  \\\n",
      "81  USA       United States    46      29      29   311591917    104   \n",
      "14  CHN               China    38      27      22  1344130000     87   \n",
      "66  RUS  Russian Federation    24      25      33   141930000     82   \n",
      "30  GBR       Great Britain    29      17      19    60924000     65   \n",
      "19  DEU             Germany    11      19      14    81726000     44   \n",
      "28  FRA              France    11      11      12    65436552     34   \n",
      "44  JPN               Japan     7      14      17   127817277     38   \n",
      "3   AUS           Australia     7      16      12    22620600     35   \n",
      "47  KOR         Korea, Rep.    13       8       7    49779000     28   \n",
      "42  ITA               Italy     8       9      11    60770000     28   \n",
      "\n",
      "    WeightedTotal  \n",
      "81            225  \n",
      "14            190  \n",
      "66            155  \n",
      "30            140  \n",
      "19             85  \n",
      "28             67  \n",
      "44             66  \n",
      "3              65  \n",
      "47             62  \n",
      "42             53  \n"
     ]
    }
   ],
   "source": [
    "df[\"WeightedTotal\"] = 3*df[\"Gold\"] + 2*df[\"Silver\"] + df[\"Bronze\"]\n",
    "df.sort_values(by=['WeightedTotal'], inplace=True, ascending=False)\n",
    "\n",
    "print(df.head(10))"
   ]
  },
  {
   "cell_type": "markdown",
   "metadata": {},
   "source": [
    "## Task 4\n",
    "\n",
    "Create a new column \"TotalPerPop\" which is calculated as the total number of medals won by a country per million population.\n",
    "\n",
    "Display the top 20 countries according to this score."
   ]
  },
  {
   "cell_type": "code",
   "execution_count": null,
   "metadata": {},
   "outputs": [],
   "source": []
  }
 ],
 "metadata": {
  "anaconda-cloud": {},
  "kernelspec": {
   "display_name": "Python 3.10.7 64-bit",
   "language": "python",
   "name": "python3"
  },
  "language_info": {
   "codemirror_mode": {
    "name": "ipython",
    "version": 3
   },
   "file_extension": ".py",
   "mimetype": "text/x-python",
   "name": "python",
   "nbconvert_exporter": "python",
   "pygments_lexer": "ipython3",
   "version": "3.10.7"
  },
  "vscode": {
   "interpreter": {
    "hash": "e7370f93d1d0cde622a1f8e1c04877d8463912d04d973331ad4851f04de6915a"
   }
  }
 },
 "nbformat": 4,
 "nbformat_minor": 4
}

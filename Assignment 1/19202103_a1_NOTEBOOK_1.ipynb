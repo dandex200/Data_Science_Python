{
 "cells": [
  {
   "cell_type": "markdown",
   "metadata": {},
   "source": [
    "<h2>DATA SCIENCE IN PYTHON ASSIGNMENT 1</h2>\n",
    "<h4>NOTEBOOK 1 (Task 1)</h4>\n",
    "<p>Daniel Devlin</p>\n",
    "<hr>\n",
    "\n",
    "<p>For this assignment I chose the Open Movie Database(OMDB) API from the provided API list. This notebook imports required modules, assigns API key for the Open Movie Database, and parses the database for the top 50 movies. It then loads those JSON objects into a new JSON file that can be easily worked with. \n",
    "</p>"
   ]
  },
  {
   "cell_type": "markdown",
   "metadata": {},
   "source": [
    "<h4>Import necessary modules</h4>\n"
   ]
  },
  {
   "cell_type": "code",
   "execution_count": 1,
   "metadata": {},
   "outputs": [],
   "source": [
    "#Imports\n",
    "import json\n",
    "import pandas as pd\n",
    "from omdbapi.movie_search import GetMovie"
   ]
  },
  {
   "cell_type": "markdown",
   "metadata": {},
   "source": [
    "<h4>OMDB API KEY Declaration & List of Top 50 Movies in 2019 from <a href=\"https://www.boxofficemojo.com/year/world/2019/\">https://www.boxofficemojo.com/year/world/2019/</a></h4>\n"
   ]
  },
  {
   "cell_type": "code",
   "execution_count": 2,
   "metadata": {},
   "outputs": [],
   "source": [
    "movie = GetMovie(api_key='9e3906f0')\n",
    "\n",
    "movies = ['Avengers: Endgame', 'The Lion King', 'Frozen II', 'Spider-Man: Far from Home', 'Captain Marvel',\n",
    "          'Joker', 'Star Wars: Episode IX - The Rise of Skywalker', 'Toy Story 4', 'Aladdin', 'Jumanji: The Next Level', 'Fast & Furious Presents: Hobbs & Shaw\t', 'Ne Zha', 'The Wandering Earth', 'How to Train Your Dragon: The Hidden World', 'Maleficent: Mistress of Evil', 'It Chapter Two', 'My People, My Country', 'Pokémon Detective Pikachu', 'The Secret Life of Pets 2', 'The Captain', 'Alita: Battle Angel', 'Godzilla: King of the Monsters', '1917', 'Once Upon a Time in Hollywood', 'Shazam!', 'Dumbo', 'Crazy Alien', 'John Wick: Chapter 3 - Parabellum', 'Knives Out', 'Terminator: Dark Fate', 'Parasite', 'Pegasus', 'Us', 'Men in Black: International', 'X-Men: Dark Phoenix', 'Glass', 'The Bravest', 'Annabelle Comes Home', 'Better Days', 'Ford v Ferrari', 'Little Women', 'The Addams Family', 'Rocketman', 'Weathering with You', 'The Lego Movie 2: The Second Part', 'Downton Abbey', 'Sheep Without a Shepherd', 'The White Storm 2: Drug Lords', 'Abominable', 'Ip Man 4: The Finale']"
   ]
  },
  {
   "cell_type": "markdown",
   "metadata": {},
   "source": [
    "<h4>Create Top_50_Movies JSON File and load each movie as an item in the json file\n",
    "</h4>"
   ]
  },
  {
   "cell_type": "code",
   "execution_count": 3,
   "metadata": {},
   "outputs": [],
   "source": [
    "with open('top_50_movies.json', 'w') as outfile:\n",
    "    outfile.write(\"[\") #Have to add brackets in order to make JSON file the proper format for parsing\n",
    "    for m in movies[:-1]:\n",
    "        json.dump(movie.get_movie(title=m), outfile)\n",
    "        outfile.write(',') #Another addition to make the proper format for parsing\n",
    "    json.dump(movie.get_movie(title=movies[-1]), outfile)\n",
    "    outfile.write(\"]\")"
   ]
  }
 ],
 "metadata": {
  "kernelspec": {
   "display_name": "Python 3.10.7 64-bit",
   "language": "python",
   "name": "python3"
  },
  "language_info": {
   "codemirror_mode": {
    "name": "ipython",
    "version": 3
   },
   "file_extension": ".py",
   "mimetype": "text/x-python",
   "name": "python",
   "nbconvert_exporter": "python",
   "pygments_lexer": "ipython3",
   "version": "3.10.7"
  },
  "orig_nbformat": 4,
  "vscode": {
   "interpreter": {
    "hash": "e7370f93d1d0cde622a1f8e1c04877d8463912d04d973331ad4851f04de6915a"
   }
  }
 },
 "nbformat": 4,
 "nbformat_minor": 2
}

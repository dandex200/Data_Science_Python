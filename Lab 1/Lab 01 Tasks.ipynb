{
 "cells": [
  {
   "cell_type": "markdown",
   "metadata": {},
   "source": [
    "# Lab 1 Tasks\n",
    "\n",
    "The code below creates two Python lists -- one list with English words, and a corresponding list with French words."
   ]
  },
  {
   "cell_type": "code",
   "execution_count": null,
   "metadata": {},
   "outputs": [],
   "source": [
    "english = [\"hello\", \"cat\", \"dog\", \"yes\", \"tomorrow\", \"yesterday\", \"fish\", \n",
    "          \"difficult\", \"easy\", \"bad\", \"no\", \"tuesday\", \"january\", \"world\"]"
   ]
  },
  {
   "cell_type": "code",
   "execution_count": null,
   "metadata": {},
   "outputs": [],
   "source": [
    "french = [\"bonjour\", \"chat\", \"chien\", \"oui\", \"demain\", \"hier\", \"poisson\",\n",
    "          \"difficile\", \"facile\", \"mauvais\", \"non\", \"mardi\", \"janvier\", \"monde\"]"
   ]
  },
  {
   "cell_type": "markdown",
   "metadata": {},
   "source": [
    "### Task 1\n",
    "\n",
    "Confirm that both lists contain an equal number of values."
   ]
  },
  {
   "cell_type": "code",
   "execution_count": 5,
   "metadata": {},
   "outputs": [
    {
     "name": "stdout",
     "output_type": "stream",
     "text": [
      "Equal Size\n",
      "14\n",
      "14\n"
     ]
    }
   ],
   "source": [
    "english = [\"hello\", \"cat\", \"dog\", \"yes\", \"tomorrow\", \"yesterday\", \"fish\", \n",
    "          \"difficult\", \"easy\", \"bad\", \"no\", \"tuesday\", \"january\", \"world\"]\n",
    "french = [\"bonjour\", \"chat\", \"chien\", \"oui\", \"demain\", \"hier\", \"poisson\",\n",
    "          \"difficile\", \"facile\", \"mauvais\", \"non\", \"mardi\", \"janvier\", \"monde\"]\n",
    "size_eng = len(english)\n",
    "size_french = len(french)\n",
    "if size_eng == size_french:\n",
    "    print(\"Equal Size\")\n",
    "    print(size_eng)\n",
    "    print(size_french)\n",
    "else:\n",
    "    print(\"Not equal\")"
   ]
  },
  {
   "cell_type": "markdown",
   "metadata": {},
   "source": [
    "### Task 2\n",
    "\n",
    "Create a Python dictionary, which maps English words to French words, using the two lists above. "
   ]
  },
  {
   "cell_type": "code",
   "execution_count": 8,
   "metadata": {},
   "outputs": [
    {
     "data": {
      "text/plain": [
       "'chien'"
      ]
     },
     "execution_count": 8,
     "metadata": {},
     "output_type": "execute_result"
    }
   ],
   "source": [
    "english = [\"hello\", \"cat\", \"dog\", \"yes\", \"tomorrow\", \"yesterday\", \"fish\", \n",
    "          \"difficult\", \"easy\", \"bad\", \"no\", \"tuesday\", \"january\", \"world\"]\n",
    "french = [\"bonjour\", \"chat\", \"chien\", \"oui\", \"demain\", \"hier\", \"poisson\",\n",
    "          \"difficile\", \"facile\", \"mauvais\", \"non\", \"mardi\", \"janvier\", \"monde\"]\n",
    "\n",
    "translator ={}\n",
    "\n",
    "for i in range(len(english)):\n",
    "    translator[ english[i] ] = french[i]\n",
    "    \n",
    "translator[\"dog\"]"
   ]
  },
  {
   "cell_type": "markdown",
   "metadata": {},
   "source": [
    "### Task 3\n",
    "\n",
    "Remove all key-value pairs from the dictionary above, where the keys (i.e. the English words) contain less than 4 characters."
   ]
  },
  {
   "cell_type": "code",
   "execution_count": 10,
   "metadata": {},
   "outputs": [
    {
     "name": "stdout",
     "output_type": "stream",
     "text": [
      "['hello', 'cat', 'dog', 'yes', 'tomorrow', 'yesterday', 'fish', 'difficult', 'easy', 'bad', 'no', 'tuesday', 'january', 'world']\n",
      "{'hello': 'bonjour', 'tomorrow': 'demain', 'yesterday': 'hier', 'fish': 'poisson', 'difficult': 'difficile', 'easy': 'facile', 'tuesday': 'mardi', 'january': 'janvier', 'world': 'monde'}\n"
     ]
    }
   ],
   "source": [
    "english = [\"hello\", \"cat\", \"dog\", \"yes\", \"tomorrow\", \"yesterday\", \"fish\", \n",
    "          \"difficult\", \"easy\", \"bad\", \"no\", \"tuesday\", \"january\", \"world\"]\n",
    "french = [\"bonjour\", \"chat\", \"chien\", \"oui\", \"demain\", \"hier\", \"poisson\",\n",
    "          \"difficile\", \"facile\", \"mauvais\", \"non\", \"mardi\", \"janvier\", \"monde\"]\n",
    "\n",
    "translator ={}\n",
    "\n",
    "for i in range(len(english)):\n",
    "    translator[ english[i] ] = french[i]\n",
    "    \n",
    "for word in english:\n",
    "    if len(word) < 4:\n",
    "        del translator[word]\n",
    "        \n",
    "print(english)\n",
    "print(translator)"
   ]
  },
  {
   "cell_type": "markdown",
   "metadata": {},
   "source": [
    "### Task 4\n",
    "\n",
    "For the remaining words, print an alphabetically-ordered list of the English words and their corresponding French translations."
   ]
  },
  {
   "cell_type": "code",
   "execution_count": 13,
   "metadata": {},
   "outputs": [
    {
     "name": "stdout",
     "output_type": "stream",
     "text": [
      "difficult -> difficile\n",
      "easy -> facile\n",
      "fish -> poisson\n",
      "hello -> bonjour\n",
      "january -> janvier\n",
      "tomorrow -> demain\n",
      "tuesday -> mardi\n",
      "world -> monde\n",
      "yesterday -> hier\n"
     ]
    }
   ],
   "source": [
    "english = [\"hello\", \"cat\", \"dog\", \"yes\", \"tomorrow\", \"yesterday\", \"fish\", \n",
    "          \"difficult\", \"easy\", \"bad\", \"no\", \"tuesday\", \"january\", \"world\"]\n",
    "french = [\"bonjour\", \"chat\", \"chien\", \"oui\", \"demain\", \"hier\", \"poisson\",\n",
    "          \"difficile\", \"facile\", \"mauvais\", \"non\", \"mardi\", \"janvier\", \"monde\"]\n",
    "\n",
    "translator ={}\n",
    "\n",
    "for i in range(len(english)):\n",
    "    translator[ english[i] ] = french[i]\n",
    "    \n",
    "for word in english:\n",
    "    if len(word) < 4:\n",
    "        del translator[word]\n",
    "\n",
    "for word in sorted(translator.keys()):\n",
    "    print(\"%s -> %s\" % (word, translator[word]))\n",
    "          "
   ]
  },
  {
   "cell_type": "markdown",
   "metadata": {},
   "source": [
    "### Task 5\n",
    "\n",
    "Write a new function named *translate()* which accepts 3 parameters: a translation dictionary, a word to translate, and a default word. If the word is in the dictionary, the function should return the translated word. Otherwise, it should return the default word."
   ]
  },
  {
   "cell_type": "code",
   "execution_count": 16,
   "metadata": {},
   "outputs": [
    {
     "data": {
      "text/plain": [
       "'bonjour'"
      ]
     },
     "execution_count": 16,
     "metadata": {},
     "output_type": "execute_result"
    }
   ],
   "source": [
    "english = [\"hello\", \"cat\", \"dog\", \"yes\", \"tomorrow\", \"yesterday\", \"fish\", \n",
    "          \"difficult\", \"easy\", \"bad\", \"no\", \"tuesday\", \"january\", \"world\"]\n",
    "french = [\"bonjour\", \"chat\", \"chien\", \"oui\", \"demain\", \"hier\", \"poisson\",\n",
    "          \"difficile\", \"facile\", \"mauvais\", \"non\", \"mardi\", \"janvier\", \"monde\"]\n",
    "\n",
    "translator ={}\n",
    "\n",
    "for i in range(len(english)):\n",
    "    translator[ english[i] ] = french[i]\n",
    "    \n",
    "def translate(trans_diction, trans_word, default_word):\n",
    "    if trans_word in trans_diction:\n",
    "        return trans_diction[trans_word]\n",
    "    else:\n",
    "        return default_word\n",
    "\n",
    "translate(translator, \"hello\", \"penis\")\n",
    "    "
   ]
  }
 ],
 "metadata": {
  "kernelspec": {
   "display_name": "Python 3 (ipykernel)",
   "language": "python",
   "name": "python3"
  },
  "language_info": {
   "codemirror_mode": {
    "name": "ipython",
    "version": 3
   },
   "file_extension": ".py",
   "mimetype": "text/x-python",
   "name": "python",
   "nbconvert_exporter": "python",
   "pygments_lexer": "ipython3",
   "version": "3.10.7"
  }
 },
 "nbformat": 4,
 "nbformat_minor": 4
}

{
 "cells": [
  {
   "cell_type": "markdown",
   "metadata": {},
   "source": [
    "# Lab 8 Tasks\n",
    "\n",
    "In this notebook we will apply basic time series analysis to stock price data for Meta and Amazon, sourced from Yahoo Finance."
   ]
  },
  {
   "cell_type": "code",
   "execution_count": 2,
   "metadata": {},
   "outputs": [],
   "source": [
    "from datetime import datetime\n",
    "import pandas as pd\n",
    "import matplotlib\n",
    "import matplotlib.pylab as plt\n",
    "%matplotlib inline "
   ]
  },
  {
   "cell_type": "markdown",
   "metadata": {},
   "source": [
    "### Task 1\n",
    "\n",
    "Load the stock price CSV files for both Meta and Amazon into separate Pandas DataFrames.\n",
    "\n",
    "Note: Dates in these files are stored in \"day/month/year\" format"
   ]
  },
  {
   "cell_type": "code",
   "execution_count": 7,
   "metadata": {},
   "outputs": [],
   "source": [
    "dp = lambda x: datetime.strptime(x, \"%d/%m/%Y\")"
   ]
  },
  {
   "cell_type": "code",
   "execution_count": 12,
   "metadata": {},
   "outputs": [
    {
     "data": {
      "text/html": [
       "<div>\n",
       "<style scoped>\n",
       "    .dataframe tbody tr th:only-of-type {\n",
       "        vertical-align: middle;\n",
       "    }\n",
       "\n",
       "    .dataframe tbody tr th {\n",
       "        vertical-align: top;\n",
       "    }\n",
       "\n",
       "    .dataframe thead th {\n",
       "        text-align: right;\n",
       "    }\n",
       "</style>\n",
       "<table border=\"1\" class=\"dataframe\">\n",
       "  <thead>\n",
       "    <tr style=\"text-align: right;\">\n",
       "      <th></th>\n",
       "      <th>open</th>\n",
       "      <th>high</th>\n",
       "      <th>low</th>\n",
       "      <th>close</th>\n",
       "    </tr>\n",
       "    <tr>\n",
       "      <th>date</th>\n",
       "      <th></th>\n",
       "      <th></th>\n",
       "      <th></th>\n",
       "      <th></th>\n",
       "    </tr>\n",
       "  </thead>\n",
       "  <tbody>\n",
       "    <tr>\n",
       "      <th>2021-01-04</th>\n",
       "      <td>274.779999</td>\n",
       "      <td>275.000000</td>\n",
       "      <td>265.200012</td>\n",
       "      <td>268.940002</td>\n",
       "    </tr>\n",
       "    <tr>\n",
       "      <th>2021-01-05</th>\n",
       "      <td>268.290009</td>\n",
       "      <td>272.399994</td>\n",
       "      <td>268.209991</td>\n",
       "      <td>270.970001</td>\n",
       "    </tr>\n",
       "    <tr>\n",
       "      <th>2021-01-06</th>\n",
       "      <td>262.000000</td>\n",
       "      <td>267.750000</td>\n",
       "      <td>260.010010</td>\n",
       "      <td>263.309998</td>\n",
       "    </tr>\n",
       "    <tr>\n",
       "      <th>2021-01-07</th>\n",
       "      <td>265.899994</td>\n",
       "      <td>271.609985</td>\n",
       "      <td>264.779999</td>\n",
       "      <td>268.739990</td>\n",
       "    </tr>\n",
       "    <tr>\n",
       "      <th>2021-01-08</th>\n",
       "      <td>268.309998</td>\n",
       "      <td>268.950012</td>\n",
       "      <td>263.179993</td>\n",
       "      <td>267.570007</td>\n",
       "    </tr>\n",
       "  </tbody>\n",
       "</table>\n",
       "</div>"
      ],
      "text/plain": [
       "                  open        high         low       close\n",
       "date                                                      \n",
       "2021-01-04  274.779999  275.000000  265.200012  268.940002\n",
       "2021-01-05  268.290009  272.399994  268.209991  270.970001\n",
       "2021-01-06  262.000000  267.750000  260.010010  263.309998\n",
       "2021-01-07  265.899994  271.609985  264.779999  268.739990\n",
       "2021-01-08  268.309998  268.950012  263.179993  267.570007"
      ]
     },
     "execution_count": 12,
     "metadata": {},
     "output_type": "execute_result"
    }
   ],
   "source": [
    "df_meta = pd.read_csv(\"lab08-data/stock-meta.csv\", index_col=\"date\", parse_dates=True, date_parser=dp)\n",
    "df_meta.head()"
   ]
  },
  {
   "cell_type": "code",
   "execution_count": 15,
   "metadata": {},
   "outputs": [
    {
     "data": {
      "text/html": [
       "<div>\n",
       "<style scoped>\n",
       "    .dataframe tbody tr th:only-of-type {\n",
       "        vertical-align: middle;\n",
       "    }\n",
       "\n",
       "    .dataframe tbody tr th {\n",
       "        vertical-align: top;\n",
       "    }\n",
       "\n",
       "    .dataframe thead th {\n",
       "        text-align: right;\n",
       "    }\n",
       "</style>\n",
       "<table border=\"1\" class=\"dataframe\">\n",
       "  <thead>\n",
       "    <tr style=\"text-align: right;\">\n",
       "      <th></th>\n",
       "      <th>open</th>\n",
       "      <th>high</th>\n",
       "      <th>low</th>\n",
       "      <th>close</th>\n",
       "    </tr>\n",
       "    <tr>\n",
       "      <th>date</th>\n",
       "      <th></th>\n",
       "      <th></th>\n",
       "      <th></th>\n",
       "      <th></th>\n",
       "    </tr>\n",
       "  </thead>\n",
       "  <tbody>\n",
       "    <tr>\n",
       "      <th>2021-01-04</th>\n",
       "      <td>163.500000</td>\n",
       "      <td>163.600006</td>\n",
       "      <td>157.201004</td>\n",
       "      <td>159.331497</td>\n",
       "    </tr>\n",
       "    <tr>\n",
       "      <th>2021-01-05</th>\n",
       "      <td>158.300507</td>\n",
       "      <td>161.169006</td>\n",
       "      <td>158.253006</td>\n",
       "      <td>160.925507</td>\n",
       "    </tr>\n",
       "    <tr>\n",
       "      <th>2021-01-06</th>\n",
       "      <td>157.324005</td>\n",
       "      <td>159.875504</td>\n",
       "      <td>156.557999</td>\n",
       "      <td>156.919006</td>\n",
       "    </tr>\n",
       "    <tr>\n",
       "      <th>2021-01-07</th>\n",
       "      <td>157.850006</td>\n",
       "      <td>160.427002</td>\n",
       "      <td>157.750000</td>\n",
       "      <td>158.108002</td>\n",
       "    </tr>\n",
       "    <tr>\n",
       "      <th>2021-01-08</th>\n",
       "      <td>159.000000</td>\n",
       "      <td>159.531998</td>\n",
       "      <td>157.110001</td>\n",
       "      <td>159.134995</td>\n",
       "    </tr>\n",
       "  </tbody>\n",
       "</table>\n",
       "</div>"
      ],
      "text/plain": [
       "                  open        high         low       close\n",
       "date                                                      \n",
       "2021-01-04  163.500000  163.600006  157.201004  159.331497\n",
       "2021-01-05  158.300507  161.169006  158.253006  160.925507\n",
       "2021-01-06  157.324005  159.875504  156.557999  156.919006\n",
       "2021-01-07  157.850006  160.427002  157.750000  158.108002\n",
       "2021-01-08  159.000000  159.531998  157.110001  159.134995"
      ]
     },
     "execution_count": 15,
     "metadata": {},
     "output_type": "execute_result"
    }
   ],
   "source": [
    "df_amazon = pd.read_csv(\"lab08-data/stock-amazon.csv\", index_col=\"date\", parse_dates=True, date_parser=dp)\n",
    "df_amazon.head()"
   ]
  },
  {
   "cell_type": "markdown",
   "metadata": {},
   "source": [
    "### Task 2\n",
    "\n",
    "For each of the DataFrames, extract only the **close** stock prices for the year 2021. This should give you two new Pandas Series."
   ]
  },
  {
   "cell_type": "code",
   "execution_count": 9,
   "metadata": {},
   "outputs": [
    {
     "data": {
      "text/plain": [
       "date\n",
       "2021-01-04    268.940002\n",
       "2021-01-05    270.970001\n",
       "2021-01-06    263.309998\n",
       "2021-01-07    268.739990\n",
       "2021-01-08    267.570007\n",
       "Name: close, dtype: float64"
      ]
     },
     "execution_count": 9,
     "metadata": {},
     "output_type": "execute_result"
    }
   ],
   "source": [
    "df_meta_closing = df_meta['close']['2021']\n",
    "df_meta_closing.head()"
   ]
  },
  {
   "cell_type": "code",
   "execution_count": 18,
   "metadata": {},
   "outputs": [
    {
     "data": {
      "text/plain": [
       "date\n",
       "2021-01-04    159.331497\n",
       "2021-01-05    160.925507\n",
       "2021-01-06    156.919006\n",
       "2021-01-07    158.108002\n",
       "2021-01-08    159.134995\n",
       "Name: close, dtype: float64"
      ]
     },
     "execution_count": 18,
     "metadata": {},
     "output_type": "execute_result"
    }
   ],
   "source": [
    "df_amazon_closed = df_amazon['close']['2021']\n",
    "df_amazon_closed.head()"
   ]
  },
  {
   "cell_type": "markdown",
   "metadata": {},
   "source": [
    "### Task 3\n",
    "\n",
    "Create a new time series DataFrame with two columns, one for the Meta 2021 closing prices and one for the Amazon 2021 closing prices."
   ]
  },
  {
   "cell_type": "code",
   "execution_count": 19,
   "metadata": {},
   "outputs": [
    {
     "data": {
      "text/html": [
       "<div>\n",
       "<style scoped>\n",
       "    .dataframe tbody tr th:only-of-type {\n",
       "        vertical-align: middle;\n",
       "    }\n",
       "\n",
       "    .dataframe tbody tr th {\n",
       "        vertical-align: top;\n",
       "    }\n",
       "\n",
       "    .dataframe thead th {\n",
       "        text-align: right;\n",
       "    }\n",
       "</style>\n",
       "<table border=\"1\" class=\"dataframe\">\n",
       "  <thead>\n",
       "    <tr style=\"text-align: right;\">\n",
       "      <th></th>\n",
       "      <th>Meta</th>\n",
       "      <th>Amazon</th>\n",
       "    </tr>\n",
       "    <tr>\n",
       "      <th>date</th>\n",
       "      <th></th>\n",
       "      <th></th>\n",
       "    </tr>\n",
       "  </thead>\n",
       "  <tbody>\n",
       "    <tr>\n",
       "      <th>2021-01-04</th>\n",
       "      <td>268.940002</td>\n",
       "      <td>159.331497</td>\n",
       "    </tr>\n",
       "    <tr>\n",
       "      <th>2021-01-05</th>\n",
       "      <td>270.970001</td>\n",
       "      <td>160.925507</td>\n",
       "    </tr>\n",
       "    <tr>\n",
       "      <th>2021-01-06</th>\n",
       "      <td>263.309998</td>\n",
       "      <td>156.919006</td>\n",
       "    </tr>\n",
       "    <tr>\n",
       "      <th>2021-01-07</th>\n",
       "      <td>268.739990</td>\n",
       "      <td>158.108002</td>\n",
       "    </tr>\n",
       "    <tr>\n",
       "      <th>2021-01-08</th>\n",
       "      <td>267.570007</td>\n",
       "      <td>159.134995</td>\n",
       "    </tr>\n",
       "  </tbody>\n",
       "</table>\n",
       "</div>"
      ],
      "text/plain": [
       "                  Meta      Amazon\n",
       "date                              \n",
       "2021-01-04  268.940002  159.331497\n",
       "2021-01-05  270.970001  160.925507\n",
       "2021-01-06  263.309998  156.919006\n",
       "2021-01-07  268.739990  158.108002\n",
       "2021-01-08  267.570007  159.134995"
      ]
     },
     "execution_count": 19,
     "metadata": {},
     "output_type": "execute_result"
    }
   ],
   "source": [
    "df_combined = pd.concat( [df_meta_closing,df_amazon_closed], axis=1)\n",
    "df_combined.columns = [\"Meta\",\"Amazon\"]\n",
    "df_combined.head()"
   ]
  },
  {
   "cell_type": "markdown",
   "metadata": {},
   "source": [
    "### Task 4\n",
    "\n",
    "Plot the 2021 closing prices for Meta and Amazon, using a 7-day rolling mean."
   ]
  },
  {
   "cell_type": "code",
   "execution_count": null,
   "metadata": {},
   "outputs": [],
   "source": []
  },
  {
   "cell_type": "markdown",
   "metadata": {},
   "source": [
    "### Task 5 \n",
    "\n",
    "Resample the new DataFrame to monthly time windows, and plot the new monthly time series."
   ]
  },
  {
   "cell_type": "code",
   "execution_count": null,
   "metadata": {},
   "outputs": [],
   "source": []
  }
 ],
 "metadata": {
  "kernelspec": {
   "display_name": "Python 3.10.7 64-bit",
   "language": "python",
   "name": "python3"
  },
  "language_info": {
   "codemirror_mode": {
    "name": "ipython",
    "version": 3
   },
   "file_extension": ".py",
   "mimetype": "text/x-python",
   "name": "python",
   "nbconvert_exporter": "python",
   "pygments_lexer": "ipython3",
   "version": "3.10.7"
  },
  "vscode": {
   "interpreter": {
    "hash": "e7370f93d1d0cde622a1f8e1c04877d8463912d04d973331ad4851f04de6915a"
   }
  }
 },
 "nbformat": 4,
 "nbformat_minor": 1
}
